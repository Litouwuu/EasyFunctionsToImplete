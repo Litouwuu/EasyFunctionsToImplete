{
 "cells": [
  {
   "cell_type": "code",
   "execution_count": 1,
   "id": "2a041ab8",
   "metadata": {},
   "outputs": [],
   "source": [
    "import numpy as np\n",
    "import pandas as pd\n",
    "import scipy.stats as stats\n",
    "import re"
   ]
  },
  {
   "cell_type": "code",
   "execution_count": 2,
   "id": "64bc55c8",
   "metadata": {},
   "outputs": [],
   "source": [
    "def merge_nhl():\n",
    "    cities=pd.read_html(\"assets/wikipedia_data.html\")[1]\n",
    "    cities=cities.iloc[:-1,[0,3,5,6,7,8]]\n",
    "\n",
    "    teams = cities['NHL'].str.extract('([A-Z]{0,2}[a-z0-9]*\\ [A-Z]{0,2}[a-z0-9]*|[A-Z]{0,2}[a-z0-9]*)([A-Z]{0,2}[a-z0-9]*\\ [A-Z]{0,2}[a-z0-9]*|[A-Z]{0,2}[a-z0-9]*)([A-Z]{0,2}[a-z0-9]*\\ [A-Z]{0,2}[a-z0-9]*|[A-Z]{0,2}[a-z0-9]*)')               \n",
    "    teams['Metropolitan area'] = cities['Metropolitan area']\n",
    "    teams = pd.melt(teams, id_vars=['Metropolitan area']).replace('',np.nan).dropna().rename(columns={'value':'team'}).reset_index().drop(columns=['variable','index'])\n",
    "\n",
    "    teams = teams.merge(cities,how = 'left',on = 'Metropolitan area').iloc[:,0:3].rename(columns={'Population (2016 est.)[8]':'Population'})\n",
    "    teams = teams.astype({'Metropolitan area':str,'team':str,'Population':int})\n",
    "    teams['team']=teams['team'].str.replace('[\\w.]*\\ ','')\n",
    "\n",
    "    nhl_df=pd.read_csv(\"assets/nhl.csv\")\n",
    "    nhl_df = nhl_df[nhl_df['year']==2018]\n",
    "    nhl_df = nhl_df[nhl_df['GP'].apply(lambda x:x.isnumeric())]\n",
    "    nhl_df = nhl_df[['team','W','L']]\n",
    "    nhl_df['team'] = nhl_df['team'].apply(lambda x: x.split(' ')[-1].strip('*'))\n",
    "    nhl_df = nhl_df.astype({'W':int,'L':int})\n",
    "    nhl_df['W/L%'] = nhl_df['W']/(nhl_df['W']+nhl_df['L'])\n",
    "\n",
    "    merge = pd.merge(teams,nhl_df,how = 'outer', on = 'team')\n",
    "\n",
    "    merge = merge.groupby('Metropolitan area').agg({'W/L%':np.nanmean,'Population':np.nanmean})\n",
    "    return merge"
   ]
  },
  {
   "cell_type": "code",
   "execution_count": 4,
   "id": "25c90f9a",
   "metadata": {},
   "outputs": [],
   "source": [
    "def merge_nba():\n",
    "    cities=pd.read_html(\"assets/wikipedia_data.html\")[1]\n",
    "    cities=cities.iloc[:-1,[0,3,5,6,7,8]]\n",
    "    teams = cities['NBA'].str.extract('([A-Z0-9]{0,2}\\w*\\ [A-Z]{0,2}\\w*|[A-Z0-9]{0,2}[a-z]*)([A-Z0-9]{0,2}\\w*|[A-Z0-9]{0,2}\\s\\w*)')\n",
    "    teams['Metropolitan area'] = cities['Metropolitan area']\n",
    "    teams = pd.melt(teams,id_vars='Metropolitan area').reset_index().drop(columns=['variable','index']).replace('',np.nan).dropna().rename(columns={'value':'team'})\n",
    "    teams = teams.merge(cities,how = 'left', on = 'Metropolitan area').iloc[:,[0,1,2]].rename(columns={'Population (2016 est.)[8]':'Population'}).astype({'Population':int})\n",
    "    teams['team'] = teams['team'].apply(lambda x: x.split(' ')[-1])\n",
    "\n",
    "    nba_df = pd.read_csv(\"assets/nba.csv\")\n",
    "    nba_df = nba_df[nba_df['year']==2018]\n",
    "    nba_df = nba_df.iloc[:,[0,1,2]]\n",
    "    nba_df['team'] = nba_df['team'].apply(lambda x: x.split('(')[0])\n",
    "    nba_df['team'] = nba_df['team'].apply(lambda x: x.split('*')[0])\n",
    "    nba_df['team'] = nba_df['team'].apply(lambda x: x.split(' ')[-1].strip())\n",
    "    nba_df = nba_df.astype({'W':int,'L':int})\n",
    "    nba_df['W/L%'] = nba_df['W']/(nba_df['W']+nba_df['L'])\n",
    "\n",
    "    merge = pd.merge(nba_df,teams,how = 'left',on = 'team')\n",
    "    merge = merge.groupby('Metropolitan area').agg({'W/L%':np.mean,'Population':np.mean})\n",
    "    return merge"
   ]
  },
  {
   "cell_type": "code",
   "execution_count": 15,
   "id": "29b36ce9",
   "metadata": {},
   "outputs": [],
   "source": [
    "def merge_mlb():\n",
    "    cities=pd.read_html(\"assets/wikipedia_data.html\")[1]\n",
    "    cities=cities.iloc[:-1,[0,3,5,6,7,8]]\n",
    "    teams = cities['MLB'].str.extract('([A-Z]{0,2}[a-z]*\\ [A-Z]{0,2}[a-z]*|[A-Z]{0,2}[a-z]*)([A-Z]{0,2}[a-z]*\\ [A-Z]{0,2}[a-z]*|[A-Z]{0,2}[a-z]*)([A-Z]{0,2}[a-z]*)([A-Z]{0,2}[a-z]*)([A-Z]{0,2}[a-z]*)([A-Z]{0,2}[a-z]*)')\n",
    "    teams['Metropolitan area'] = cities['Metropolitan area']\n",
    "    teams = pd.melt(teams,id_vars='Metropolitan area').replace('',np.nan).dropna().reset_index().drop(columns=['index','variable']).rename(columns={'value':'team'})\n",
    "    teams = teams.merge(cities,how='left',on = 'Metropolitan area').iloc[:,[0,1,2]].rename(columns={'Population (2016 est.)[8]':'Population'}).astype({'Population':int})\n",
    "    teams['team'] = teams['team'].apply(lambda x:x.split(' ')[-1].strip())\n",
    "    teams['team'].iloc[7] = 'Red Sox'\n",
    "\n",
    "    mlb_df = pd.read_csv(\"assets/mlb.csv\")\n",
    "    mlb_df = mlb_df[mlb_df['year']==2018].iloc[:,[0,1,2]]\n",
    "    mlb_df['team'] = mlb_df['team'].apply(lambda x:x.split(' ')[-1].strip())\n",
    "    mlb_df = mlb_df.astype({'W':int,'L':int})\n",
    "    mlb_df['W/L%']= mlb_df['W']/(mlb_df['W']+mlb_df['L'])\n",
    "    mlb_df['team'].iloc[0] = 'Red Sox'\n",
    "\n",
    "    merge = pd.merge(mlb_df,teams,how ='left',on = 'team')\n",
    "    merge = merge.groupby('Metropolitan area').agg({'W/L%':np.nanmean,'Population':np.nanmean})\n",
    "    return merge"
   ]
  },
  {
   "cell_type": "code",
   "execution_count": 7,
   "id": "81b99e35",
   "metadata": {},
   "outputs": [],
   "source": [
    "def merge_nfl():\n",
    "    cities=pd.read_html(\"assets/wikipedia_data.html\")[1]\n",
    "    cities=cities.iloc[:-1,[0,3,5,6,7,8]]\n",
    "    teams = cities['NFL'].str.extract('([A-Z0-9]{0,2}\\w*\\ [A-Z]{0,2}\\w*|[A-Z0-9]{0,2}[a-z]*)([A-Z0-9]{0,2}\\w*|[A-Z0-9]{0,2}\\s\\w*)')\n",
    "    teams['Metropolitan area'] = cities['Metropolitan area']\n",
    "    teams = pd.melt(teams,id_vars='Metropolitan area').reset_index().drop(columns=['variable','index']).replace('',np.nan).dropna().rename(columns={'value':'team'})\n",
    "    teams = teams.merge(cities,how = 'left', on = 'Metropolitan area').iloc[:,[0,1,2]].rename(columns={'Population (2016 est.)[8]':'Population'}).astype({'Population':int})\n",
    "    teams['team'] = teams['team'].apply(lambda x: x.split(' ')[-1])\n",
    "\n",
    "    teams.head()\n",
    "\n",
    "    nfl_df = pd.read_csv('assets/nfl.csv')\n",
    "    nfl_df = nfl_df[nfl_df['year']==2018][['team','W','L']]\n",
    "    nfl_df = nfl_df[nfl_df['W'].apply(lambda x:x.isnumeric())].astype({'W':int,'L':int})\n",
    "    nfl_df['team'] = nfl_df['team'].apply(lambda x: x.strip('*+'))\n",
    "    nfl_df['team'] = nfl_df['team'].apply(lambda x: x.split(' ')[-1])\n",
    "    nfl_df['W/L%'] = nfl_df['W']/(nfl_df['W']+nfl_df['L'])\n",
    "\n",
    "    merge = pd.merge(nfl_df,teams,how = 'left',on = 'team')\n",
    "    merge = merge.groupby('Metropolitan area').agg({'W/L%':np.nanmean,'Population':np.nanmean})\n",
    "    return merge"
   ]
  },
  {
   "cell_type": "code",
   "execution_count": 16,
   "id": "32f479bb",
   "metadata": {},
   "outputs": [],
   "source": [
    "def create_df(sport):\n",
    "    if sport =='NFL':\n",
    "        return merge_nfl()\n",
    "    elif sport =='NBA':\n",
    "        return merge_nba()\n",
    "    elif sport =='NHL':\n",
    "        return merge_nhl()\n",
    "    elif sport =='MLB':\n",
    "        return merge_mlb()"
   ]
  },
  {
   "cell_type": "code",
   "execution_count": 17,
   "id": "aa617270",
   "metadata": {},
   "outputs": [
    {
     "name": "stderr",
     "output_type": "stream",
     "text": [
      "C:\\Anaconda3\\lib\\site-packages\\pandas\\core\\indexing.py:189: SettingWithCopyWarning: \n",
      "A value is trying to be set on a copy of a slice from a DataFrame\n",
      "\n",
      "See the caveats in the documentation: http://pandas.pydata.org/pandas-docs/stable/indexing.html#indexing-view-versus-copy\n",
      "  self._setitem_with_indexer(indexer, value)\n"
     ]
    }
   ],
   "source": [
    "sports = ['NFL','NBA','NHL','MLB']\n",
    "p_values = pd.DataFrame({k:np.nan for k in sports}, index=sports)\n",
    "for i in sports:\n",
    "    for j in sports:\n",
    "        if i!=j:\n",
    "            merge = create_df(i).merge(create_df(j),how='inner',on='Metropolitan area')\n",
    "            p_values[i].loc[j] = stats.ttest_rel(merge['W/L%_x'],merge['W/L%_y'])[1]"
   ]
  },
  {
   "cell_type": "code",
   "execution_count": 18,
   "id": "9545d7a6",
   "metadata": {},
   "outputs": [
    {
     "data": {
      "text/html": [
       "<div>\n",
       "<style scoped>\n",
       "    .dataframe tbody tr th:only-of-type {\n",
       "        vertical-align: middle;\n",
       "    }\n",
       "\n",
       "    .dataframe tbody tr th {\n",
       "        vertical-align: top;\n",
       "    }\n",
       "\n",
       "    .dataframe thead th {\n",
       "        text-align: right;\n",
       "    }\n",
       "</style>\n",
       "<table border=\"1\" class=\"dataframe\">\n",
       "  <thead>\n",
       "    <tr style=\"text-align: right;\">\n",
       "      <th></th>\n",
       "      <th>NFL</th>\n",
       "      <th>NBA</th>\n",
       "      <th>NHL</th>\n",
       "      <th>MLB</th>\n",
       "    </tr>\n",
       "  </thead>\n",
       "  <tbody>\n",
       "    <tr>\n",
       "      <th>NFL</th>\n",
       "      <td>NaN</td>\n",
       "      <td>0.941792</td>\n",
       "      <td>0.030883</td>\n",
       "      <td>0.802069</td>\n",
       "    </tr>\n",
       "    <tr>\n",
       "      <th>NBA</th>\n",
       "      <td>0.941792</td>\n",
       "      <td>NaN</td>\n",
       "      <td>0.022297</td>\n",
       "      <td>0.950540</td>\n",
       "    </tr>\n",
       "    <tr>\n",
       "      <th>NHL</th>\n",
       "      <td>0.030883</td>\n",
       "      <td>0.022297</td>\n",
       "      <td>NaN</td>\n",
       "      <td>0.000708</td>\n",
       "    </tr>\n",
       "    <tr>\n",
       "      <th>MLB</th>\n",
       "      <td>0.802069</td>\n",
       "      <td>0.950540</td>\n",
       "      <td>0.000708</td>\n",
       "      <td>NaN</td>\n",
       "    </tr>\n",
       "  </tbody>\n",
       "</table>\n",
       "</div>"
      ],
      "text/plain": [
       "          NFL       NBA       NHL       MLB\n",
       "NFL       NaN  0.941792  0.030883  0.802069\n",
       "NBA  0.941792       NaN  0.022297  0.950540\n",
       "NHL  0.030883  0.022297       NaN  0.000708\n",
       "MLB  0.802069  0.950540  0.000708       NaN"
      ]
     },
     "execution_count": 18,
     "metadata": {},
     "output_type": "execute_result"
    }
   ],
   "source": [
    "p_values"
   ]
  },
  {
   "cell_type": "code",
   "execution_count": null,
   "id": "41994d59",
   "metadata": {},
   "outputs": [],
   "source": []
  }
 ],
 "metadata": {
  "kernelspec": {
   "display_name": "Python 3",
   "language": "python",
   "name": "python3"
  },
  "language_info": {
   "codemirror_mode": {
    "name": "ipython",
    "version": 3
   },
   "file_extension": ".py",
   "mimetype": "text/x-python",
   "name": "python",
   "nbconvert_exporter": "python",
   "pygments_lexer": "ipython3",
   "version": "3.6.5"
  }
 },
 "nbformat": 4,
 "nbformat_minor": 5
}
