{
 "cells": [
  {
   "cell_type": "markdown",
   "id": "d03345c3",
   "metadata": {},
   "source": [
    "# Assignment 4\n",
    "## Description\n",
    "In this assignment you must read in a file of metropolitan regions and associated sports teams from assets/wikipedia_data.html and answer some questions about each metropolitan region. Each of these regions may have one or more teams from the \"Big 4\": NFL (football, in assets/nfl.csv), MLB (baseball, in assets/mlb.csv), NBA (basketball, in assets/nba.csv or NHL (hockey, in assets/nhl.csv). Please keep in mind that all questions are from the perspective of the metropolitan region, and that this file is the \"source of authority\" for the location of a given sports team. Thus teams which are commonly known by a different area (e.g. \"Oakland Raiders\") need to be mapped into the metropolitan region given (e.g. San Francisco Bay Area). This will require some human data understanding outside of the data you've been given (e.g. you will have to hand-code some names, and might need to google to find out where teams are)!\n",
    "\n",
    "For each sport I would like you to answer the question: what is the win/loss ratio's correlation with the population of the city it is in? Win/Loss ratio refers to the number of wins over the number of wins plus the number of losses. Remember that to calculate the correlation with pearsonr, so you are going to send in two ordered lists of values, the populations from the wikipedia_data.html file and the win/loss ratio for a given sport in the same order. Average the win/loss ratios for those cities which have multiple teams of a single sport. Each sport is worth an equal amount in this assignment (20%*4=80%) of the grade for this assignment. You should only use data from year 2018 for your analysis -- this is important!\n",
    "\n",
    "## Notes\n",
    "Do not include data about the MLS or CFL in any of the work you are doing, we're only interested in the Big 4 in this assignment.\n",
    "I highly suggest that you first tackle the four correlation questions in order, as they are all similar and worth the majority of grades for this assignment. This is by design!\n",
    "It's fair game to talk with peers about high level strategy as well as the relationship between metropolitan areas and sports teams. However, do not post code solving aspects of the assignment (including such as dictionaries mapping areas to teams, or regexes which will clean up names).\n",
    "There may be more teams than the assert statements test, remember to collapse multiple teams in one city into a single value!"
   ]
  },
  {
   "cell_type": "markdown",
   "id": "f328c702",
   "metadata": {},
   "source": [
    "# Q1"
   ]
  },
  {
   "cell_type": "code",
   "execution_count": 2,
   "id": "8df79231",
   "metadata": {},
   "outputs": [],
   "source": [
    "import numpy as np\n",
    "import pandas as pd\n",
    "import scipy.stats as stats\n",
    "import re"
   ]
  },
  {
   "cell_type": "code",
   "execution_count": 3,
   "id": "bb92e70d",
   "metadata": {},
   "outputs": [],
   "source": [
    "cities=pd.read_html(\"assets/wikipedia_data.html\")[1]\n",
    "cities=cities.iloc[:-1,[0,3,5,6,7,8]]"
   ]
  },
  {
   "cell_type": "code",
   "execution_count": 4,
   "id": "4ef2c400",
   "metadata": {},
   "outputs": [],
   "source": [
    "teams = cities['NHL'].str.extract('([A-Z]{0,2}[a-z0-9]*\\ [A-Z]{0,2}[a-z0-9]*|[A-Z]{0,2}[a-z0-9]*)([A-Z]{0,2}[a-z0-9]*\\ [A-Z]{0,2}[a-z0-9]*|[A-Z]{0,2}[a-z0-9]*)([A-Z]{0,2}[a-z0-9]*\\ [A-Z]{0,2}[a-z0-9]*|[A-Z]{0,2}[a-z0-9]*)')               \n",
    "teams['Metropolitan area'] = cities['Metropolitan area']\n",
    "teams = pd.melt(teams, id_vars=['Metropolitan area']).replace('',np.nan).dropna().rename(columns={'value':'team'}).reset_index().drop(columns=['variable','index'])"
   ]
  },
  {
   "cell_type": "code",
   "execution_count": 5,
   "id": "531035c8",
   "metadata": {},
   "outputs": [],
   "source": [
    "teams = teams.merge(cities,how = 'left',on = 'Metropolitan area').iloc[:,0:3].rename(columns={'Population (2016 est.)[8]':'Population'})\n",
    "teams = teams.astype({'Metropolitan area':str,'team':str,'Population':int})\n",
    "teams['team']=teams['team'].str.replace('[\\w.]*\\ ','')"
   ]
  },
  {
   "cell_type": "code",
   "execution_count": 6,
   "id": "2c7a6e88",
   "metadata": {},
   "outputs": [],
   "source": [
    "nhl_df=pd.read_csv(\"assets/nhl.csv\")\n",
    "nhl_df = nhl_df[nhl_df['year']==2018]\n",
    "nhl_df = nhl_df[nhl_df['GP'].apply(lambda x:x.isnumeric())]\n",
    "nhl_df = nhl_df[['team','W','L']]\n",
    "nhl_df['team'] = nhl_df['team'].apply(lambda x: x.split(' ')[-1].strip('*'))\n",
    "nhl_df = nhl_df.astype({'W':int,'L':int})\n",
    "nhl_df['W/L%'] = nhl_df['W']/(nhl_df['W']+nhl_df['L'])"
   ]
  },
  {
   "cell_type": "code",
   "execution_count": 7,
   "id": "d1ffce2a",
   "metadata": {},
   "outputs": [],
   "source": [
    "merge = pd.merge(teams,nhl_df,how = 'outer', on = 'team')"
   ]
  },
  {
   "cell_type": "code",
   "execution_count": 8,
   "id": "15cefac7",
   "metadata": {},
   "outputs": [],
   "source": [
    "merge = merge.groupby('Metropolitan area').agg({'W/L%':np.nanmean,'Population':np.nanmean})"
   ]
  },
  {
   "cell_type": "code",
   "execution_count": 9,
   "id": "3fff151f",
   "metadata": {},
   "outputs": [
    {
     "data": {
      "text/plain": [
       "(0.0124861629212099, 0.9497182859911673)"
      ]
     },
     "execution_count": 9,
     "metadata": {},
     "output_type": "execute_result"
    }
   ],
   "source": [
    "stats.pearsonr(merge['Population'], merge['W/L%'])"
   ]
  },
  {
   "cell_type": "code",
   "execution_count": null,
   "id": "7ced2045",
   "metadata": {},
   "outputs": [],
   "source": [
    "%reset"
   ]
  },
  {
   "cell_type": "markdown",
   "id": "f7ff43c9",
   "metadata": {},
   "source": [
    "## Q2 \n",
    "For this question, calculate the win/loss ratio's correlation with the population of the city it is in for the NBA using 2018 data."
   ]
  },
  {
   "cell_type": "code",
   "execution_count": null,
   "id": "fca6a617",
   "metadata": {},
   "outputs": [],
   "source": [
    "import numpy as np\n",
    "import pandas as pd\n",
    "import scipy.stats as stats\n",
    "import re"
   ]
  },
  {
   "cell_type": "code",
   "execution_count": 114,
   "id": "868aeb55",
   "metadata": {},
   "outputs": [],
   "source": [
    "cities=pd.read_html(\"assets/wikipedia_data.html\")[1]\n",
    "cities=cities.iloc[:-1,[0,3,5,6,7,8]]\n",
    "teams = cities['NBA'].str.extract('([A-Z0-9]{0,2}\\w*\\ [A-Z]{0,2}\\w*|[A-Z0-9]{0,2}[a-z]*)([A-Z0-9]{0,2}\\w*|[A-Z0-9]{0,2}\\s\\w*)')\n",
    "teams['Metropolitan area'] = cities['Metropolitan area']\n",
    "teams = pd.melt(teams,id_vars='Metropolitan area').reset_index().drop(columns=['variable','index']).replace('',np.nan).dropna().rename(columns={'value':'team'})\n",
    "teams = teams.merge(cities,how = 'left', on = 'Metropolitan area').iloc[:,[0,1,2]].rename(columns={'Population (2016 est.)[8]':'Population'}).astype({'Population':int})\n",
    "teams['team'] = teams['team'].apply(lambda x: x.split(' ')[-1])"
   ]
  },
  {
   "cell_type": "code",
   "execution_count": 116,
   "id": "17857b41",
   "metadata": {},
   "outputs": [],
   "source": [
    "nba_df = pd.read_csv(\"assets/nba.csv\")\n",
    "nba_df = nba_df[nba_df['year']==2018]\n",
    "nba_df = nba_df.iloc[:,[0,1,2]]\n",
    "nba_df['team'] = nba_df['team'].apply(lambda x: x.split('(')[0])\n",
    "nba_df['team'] = nba_df['team'].apply(lambda x: x.split('*')[0])\n",
    "nba_df['team'] = nba_df['team'].apply(lambda x: x.split(' ')[-1].strip())\n",
    "nba_df = nba_df.astype({'W':int,'L':int})\n",
    "nba_df['W/L%'] = nba_df['W']/(nba_df['W']+nba_df['L'])"
   ]
  },
  {
   "cell_type": "code",
   "execution_count": 118,
   "id": "6a37ceea",
   "metadata": {},
   "outputs": [
    {
     "data": {
      "text/plain": [
       "(28,)"
      ]
     },
     "execution_count": 118,
     "metadata": {},
     "output_type": "execute_result"
    }
   ],
   "source": [
    "merge = pd.merge(nba_df,teams,how = 'left',on = 'team')\n",
    "merge = merge.groupby('Metropolitan area').agg({'W/L%':np.mean,'Population':np.mean})\n",
    "merge['Population'].shape\n"
   ]
  },
  {
   "cell_type": "code",
   "execution_count": 119,
   "id": "87d4afb1",
   "metadata": {},
   "outputs": [
    {
     "data": {
      "text/plain": [
       "(-0.17657160252844617, 0.3687474160446289)"
      ]
     },
     "execution_count": 119,
     "metadata": {},
     "output_type": "execute_result"
    }
   ],
   "source": [
    "stats.pearsonr(merge['Population'], merge['W/L%'])"
   ]
  },
  {
   "cell_type": "code",
   "execution_count": 120,
   "id": "99399490",
   "metadata": {},
   "outputs": [
    {
     "name": "stdout",
     "output_type": "stream",
     "text": [
      "Once deleted, variables cannot be recovered. Proceed (y/[n])? y\n"
     ]
    }
   ],
   "source": [
    "%reset"
   ]
  },
  {
   "cell_type": "markdown",
   "id": "52b0d0eb",
   "metadata": {},
   "source": [
    "## Question 3\n",
    "For this question, calculate the win/loss ratio's correlation with the population of the city it is in for the MLB using 2018 data."
   ]
  },
  {
   "cell_type": "code",
   "execution_count": 122,
   "id": "558c53b2",
   "metadata": {},
   "outputs": [],
   "source": [
    "import numpy as np\n",
    "import pandas as pd\n",
    "import scipy.stats as stats\n",
    "import re"
   ]
  },
  {
   "cell_type": "code",
   "execution_count": 203,
   "id": "dc99e856",
   "metadata": {},
   "outputs": [
    {
     "name": "stderr",
     "output_type": "stream",
     "text": [
      "C:\\Anaconda3\\lib\\site-packages\\pandas\\core\\indexing.py:189: SettingWithCopyWarning: \n",
      "A value is trying to be set on a copy of a slice from a DataFrame\n",
      "\n",
      "See the caveats in the documentation: http://pandas.pydata.org/pandas-docs/stable/indexing.html#indexing-view-versus-copy\n",
      "  self._setitem_with_indexer(indexer, value)\n"
     ]
    }
   ],
   "source": [
    "cities=pd.read_html(\"assets/wikipedia_data.html\")[1]\n",
    "cities=cities.iloc[:-1,[0,3,5,6,7,8]]\n",
    "teams = cities['MLB'].str.extract('([A-Z]{0,2}[a-z]*\\ [A-Z]{0,2}[a-z]*|[A-Z]{0,2}[a-z]*)([A-Z]{0,2}[a-z]*\\ [A-Z]{0,2}[a-z]*|[A-Z]{0,2}[a-z]*)([A-Z]{0,2}[a-z]*)([A-Z]{0,2}[a-z]*)([A-Z]{0,2}[a-z]*)([A-Z]{0,2}[a-z]*)')\n",
    "teams['Metropolitan area'] = cities['Metropolitan area']\n",
    "teams = pd.melt(teams,id_vars='Metropolitan area').replace('',np.nan).dropna().reset_index().drop(columns=['index','variable']).rename(columns={'value':'team'})\n",
    "teams = teams.merge(cities,how='left',on = 'Metropolitan area').iloc[:,[0,1,2]].rename(columns={'Population (2016 est.)[8]':'Population'}).astype({'Population':int})\n",
    "teams['team'] = teams['team'].apply(lambda x:x.split(' ')[-1].strip())\n",
    "teams['team'].iloc[7] = 'Red Sox'"
   ]
  },
  {
   "cell_type": "code",
   "execution_count": 215,
   "id": "5ce52eaa",
   "metadata": {},
   "outputs": [
    {
     "name": "stderr",
     "output_type": "stream",
     "text": [
      "C:\\Anaconda3\\lib\\site-packages\\pandas\\core\\indexing.py:189: SettingWithCopyWarning: \n",
      "A value is trying to be set on a copy of a slice from a DataFrame\n",
      "\n",
      "See the caveats in the documentation: http://pandas.pydata.org/pandas-docs/stable/indexing.html#indexing-view-versus-copy\n",
      "  self._setitem_with_indexer(indexer, value)\n"
     ]
    },
    {
     "data": {
      "text/html": [
       "<div>\n",
       "<style scoped>\n",
       "    .dataframe tbody tr th:only-of-type {\n",
       "        vertical-align: middle;\n",
       "    }\n",
       "\n",
       "    .dataframe tbody tr th {\n",
       "        vertical-align: top;\n",
       "    }\n",
       "\n",
       "    .dataframe thead th {\n",
       "        text-align: right;\n",
       "    }\n",
       "</style>\n",
       "<table border=\"1\" class=\"dataframe\">\n",
       "  <thead>\n",
       "    <tr style=\"text-align: right;\">\n",
       "      <th></th>\n",
       "      <th>team</th>\n",
       "      <th>W</th>\n",
       "      <th>L</th>\n",
       "      <th>W/L%</th>\n",
       "    </tr>\n",
       "  </thead>\n",
       "  <tbody>\n",
       "    <tr>\n",
       "      <th>0</th>\n",
       "      <td>Red Sox</td>\n",
       "      <td>108</td>\n",
       "      <td>54</td>\n",
       "      <td>0.666667</td>\n",
       "    </tr>\n",
       "    <tr>\n",
       "      <th>1</th>\n",
       "      <td>Yankees</td>\n",
       "      <td>100</td>\n",
       "      <td>62</td>\n",
       "      <td>0.617284</td>\n",
       "    </tr>\n",
       "    <tr>\n",
       "      <th>2</th>\n",
       "      <td>Rays</td>\n",
       "      <td>90</td>\n",
       "      <td>72</td>\n",
       "      <td>0.555556</td>\n",
       "    </tr>\n",
       "    <tr>\n",
       "      <th>3</th>\n",
       "      <td>Jays</td>\n",
       "      <td>73</td>\n",
       "      <td>89</td>\n",
       "      <td>0.450617</td>\n",
       "    </tr>\n",
       "    <tr>\n",
       "      <th>4</th>\n",
       "      <td>Orioles</td>\n",
       "      <td>47</td>\n",
       "      <td>115</td>\n",
       "      <td>0.290123</td>\n",
       "    </tr>\n",
       "    <tr>\n",
       "      <th>5</th>\n",
       "      <td>Indians</td>\n",
       "      <td>91</td>\n",
       "      <td>71</td>\n",
       "      <td>0.561728</td>\n",
       "    </tr>\n",
       "    <tr>\n",
       "      <th>6</th>\n",
       "      <td>Twins</td>\n",
       "      <td>78</td>\n",
       "      <td>84</td>\n",
       "      <td>0.481481</td>\n",
       "    </tr>\n",
       "    <tr>\n",
       "      <th>7</th>\n",
       "      <td>Tigers</td>\n",
       "      <td>64</td>\n",
       "      <td>98</td>\n",
       "      <td>0.395062</td>\n",
       "    </tr>\n",
       "    <tr>\n",
       "      <th>8</th>\n",
       "      <td>Sox</td>\n",
       "      <td>62</td>\n",
       "      <td>100</td>\n",
       "      <td>0.382716</td>\n",
       "    </tr>\n",
       "    <tr>\n",
       "      <th>9</th>\n",
       "      <td>Royals</td>\n",
       "      <td>58</td>\n",
       "      <td>104</td>\n",
       "      <td>0.358025</td>\n",
       "    </tr>\n",
       "    <tr>\n",
       "      <th>10</th>\n",
       "      <td>Astros</td>\n",
       "      <td>103</td>\n",
       "      <td>59</td>\n",
       "      <td>0.635802</td>\n",
       "    </tr>\n",
       "    <tr>\n",
       "      <th>11</th>\n",
       "      <td>Athletics</td>\n",
       "      <td>97</td>\n",
       "      <td>65</td>\n",
       "      <td>0.598765</td>\n",
       "    </tr>\n",
       "    <tr>\n",
       "      <th>12</th>\n",
       "      <td>Mariners</td>\n",
       "      <td>89</td>\n",
       "      <td>73</td>\n",
       "      <td>0.549383</td>\n",
       "    </tr>\n",
       "    <tr>\n",
       "      <th>13</th>\n",
       "      <td>Angels</td>\n",
       "      <td>80</td>\n",
       "      <td>82</td>\n",
       "      <td>0.493827</td>\n",
       "    </tr>\n",
       "    <tr>\n",
       "      <th>14</th>\n",
       "      <td>Rangers</td>\n",
       "      <td>67</td>\n",
       "      <td>95</td>\n",
       "      <td>0.413580</td>\n",
       "    </tr>\n",
       "    <tr>\n",
       "      <th>15</th>\n",
       "      <td>Braves</td>\n",
       "      <td>90</td>\n",
       "      <td>72</td>\n",
       "      <td>0.555556</td>\n",
       "    </tr>\n",
       "    <tr>\n",
       "      <th>16</th>\n",
       "      <td>Nationals</td>\n",
       "      <td>82</td>\n",
       "      <td>80</td>\n",
       "      <td>0.506173</td>\n",
       "    </tr>\n",
       "    <tr>\n",
       "      <th>17</th>\n",
       "      <td>Phillies</td>\n",
       "      <td>80</td>\n",
       "      <td>82</td>\n",
       "      <td>0.493827</td>\n",
       "    </tr>\n",
       "    <tr>\n",
       "      <th>18</th>\n",
       "      <td>Mets</td>\n",
       "      <td>77</td>\n",
       "      <td>85</td>\n",
       "      <td>0.475309</td>\n",
       "    </tr>\n",
       "    <tr>\n",
       "      <th>19</th>\n",
       "      <td>Marlins</td>\n",
       "      <td>63</td>\n",
       "      <td>98</td>\n",
       "      <td>0.391304</td>\n",
       "    </tr>\n",
       "    <tr>\n",
       "      <th>20</th>\n",
       "      <td>Brewers</td>\n",
       "      <td>96</td>\n",
       "      <td>67</td>\n",
       "      <td>0.588957</td>\n",
       "    </tr>\n",
       "    <tr>\n",
       "      <th>21</th>\n",
       "      <td>Cubs</td>\n",
       "      <td>95</td>\n",
       "      <td>68</td>\n",
       "      <td>0.582822</td>\n",
       "    </tr>\n",
       "    <tr>\n",
       "      <th>22</th>\n",
       "      <td>Cardinals</td>\n",
       "      <td>88</td>\n",
       "      <td>74</td>\n",
       "      <td>0.543210</td>\n",
       "    </tr>\n",
       "    <tr>\n",
       "      <th>23</th>\n",
       "      <td>Pirates</td>\n",
       "      <td>82</td>\n",
       "      <td>79</td>\n",
       "      <td>0.509317</td>\n",
       "    </tr>\n",
       "    <tr>\n",
       "      <th>24</th>\n",
       "      <td>Reds</td>\n",
       "      <td>67</td>\n",
       "      <td>95</td>\n",
       "      <td>0.413580</td>\n",
       "    </tr>\n",
       "    <tr>\n",
       "      <th>25</th>\n",
       "      <td>Dodgers</td>\n",
       "      <td>92</td>\n",
       "      <td>71</td>\n",
       "      <td>0.564417</td>\n",
       "    </tr>\n",
       "    <tr>\n",
       "      <th>26</th>\n",
       "      <td>Rockies</td>\n",
       "      <td>91</td>\n",
       "      <td>72</td>\n",
       "      <td>0.558282</td>\n",
       "    </tr>\n",
       "    <tr>\n",
       "      <th>27</th>\n",
       "      <td>Diamondbacks</td>\n",
       "      <td>82</td>\n",
       "      <td>80</td>\n",
       "      <td>0.506173</td>\n",
       "    </tr>\n",
       "    <tr>\n",
       "      <th>28</th>\n",
       "      <td>Giants</td>\n",
       "      <td>73</td>\n",
       "      <td>89</td>\n",
       "      <td>0.450617</td>\n",
       "    </tr>\n",
       "    <tr>\n",
       "      <th>29</th>\n",
       "      <td>Padres</td>\n",
       "      <td>66</td>\n",
       "      <td>96</td>\n",
       "      <td>0.407407</td>\n",
       "    </tr>\n",
       "  </tbody>\n",
       "</table>\n",
       "</div>"
      ],
      "text/plain": [
       "            team    W    L      W/L%\n",
       "0        Red Sox  108   54  0.666667\n",
       "1        Yankees  100   62  0.617284\n",
       "2           Rays   90   72  0.555556\n",
       "3           Jays   73   89  0.450617\n",
       "4        Orioles   47  115  0.290123\n",
       "5        Indians   91   71  0.561728\n",
       "6          Twins   78   84  0.481481\n",
       "7         Tigers   64   98  0.395062\n",
       "8            Sox   62  100  0.382716\n",
       "9         Royals   58  104  0.358025\n",
       "10        Astros  103   59  0.635802\n",
       "11     Athletics   97   65  0.598765\n",
       "12      Mariners   89   73  0.549383\n",
       "13        Angels   80   82  0.493827\n",
       "14       Rangers   67   95  0.413580\n",
       "15        Braves   90   72  0.555556\n",
       "16     Nationals   82   80  0.506173\n",
       "17      Phillies   80   82  0.493827\n",
       "18          Mets   77   85  0.475309\n",
       "19       Marlins   63   98  0.391304\n",
       "20       Brewers   96   67  0.588957\n",
       "21          Cubs   95   68  0.582822\n",
       "22     Cardinals   88   74  0.543210\n",
       "23       Pirates   82   79  0.509317\n",
       "24          Reds   67   95  0.413580\n",
       "25       Dodgers   92   71  0.564417\n",
       "26       Rockies   91   72  0.558282\n",
       "27  Diamondbacks   82   80  0.506173\n",
       "28        Giants   73   89  0.450617\n",
       "29        Padres   66   96  0.407407"
      ]
     },
     "execution_count": 215,
     "metadata": {},
     "output_type": "execute_result"
    }
   ],
   "source": [
    "mlb_df = pd.read_csv(\"assets/mlb.csv\")\n",
    "mlb_df = mlb_df[mlb_df['year']==2018].iloc[:,[0,1,2]]\n",
    "mlb_df['team'] = mlb_df['team'].apply(lambda x:x.split(' ')[-1].strip())\n",
    "mlb_df = mlb_df.astype({'W':int,'L':int})\n",
    "mlb_df['W/L%']= mlb_df['W']/(mlb_df['W']+mlb_df['L'])\n",
    "mlb_df['team'].iloc[0] = 'Red Sox'"
   ]
  },
  {
   "cell_type": "code",
   "execution_count": 216,
   "id": "89f501c7",
   "metadata": {},
   "outputs": [
    {
     "data": {
      "text/plain": [
       "(26, 2)"
      ]
     },
     "execution_count": 216,
     "metadata": {},
     "output_type": "execute_result"
    }
   ],
   "source": [
    "merge = pd.merge(mlb_df,teams,how ='left',on = 'team')\n",
    "merge = merge.groupby('Metropolitan area').agg({'W/L%':np.nanmean,'Population':np.nanmean})\n",
    "merge.shape"
   ]
  },
  {
   "cell_type": "code",
   "execution_count": 213,
   "id": "4e4ec795",
   "metadata": {},
   "outputs": [
    {
     "data": {
      "text/plain": [
       "0.15027698302669304"
      ]
     },
     "execution_count": 213,
     "metadata": {},
     "output_type": "execute_result"
    }
   ],
   "source": [
    "stats.pearsonr(merge['Population'],merge['W/L%'])[0]"
   ]
  },
  {
   "cell_type": "code",
   "execution_count": null,
   "id": "01c576d1",
   "metadata": {},
   "outputs": [],
   "source": []
  }
 ],
 "metadata": {
  "kernelspec": {
   "display_name": "Python 3",
   "language": "python",
   "name": "python3"
  },
  "language_info": {
   "codemirror_mode": {
    "name": "ipython",
    "version": 3
   },
   "file_extension": ".py",
   "mimetype": "text/x-python",
   "name": "python",
   "nbconvert_exporter": "python",
   "pygments_lexer": "ipython3",
   "version": "3.6.5"
  }
 },
 "nbformat": 4,
 "nbformat_minor": 5
}
