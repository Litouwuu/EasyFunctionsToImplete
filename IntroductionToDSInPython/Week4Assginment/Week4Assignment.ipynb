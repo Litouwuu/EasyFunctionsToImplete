{
 "cells": [
  {
   "cell_type": "markdown",
   "id": "d03345c3",
   "metadata": {},
   "source": [
    "# Assignment 4\n",
    "## Description\n",
    "In this assignment you must read in a file of metropolitan regions and associated sports teams from assets/wikipedia_data.html and answer some questions about each metropolitan region. Each of these regions may have one or more teams from the \"Big 4\": NFL (football, in assets/nfl.csv), MLB (baseball, in assets/mlb.csv), NBA (basketball, in assets/nba.csv or NHL (hockey, in assets/nhl.csv). Please keep in mind that all questions are from the perspective of the metropolitan region, and that this file is the \"source of authority\" for the location of a given sports team. Thus teams which are commonly known by a different area (e.g. \"Oakland Raiders\") need to be mapped into the metropolitan region given (e.g. San Francisco Bay Area). This will require some human data understanding outside of the data you've been given (e.g. you will have to hand-code some names, and might need to google to find out where teams are)!\n",
    "\n",
    "For each sport I would like you to answer the question: what is the win/loss ratio's correlation with the population of the city it is in? Win/Loss ratio refers to the number of wins over the number of wins plus the number of losses. Remember that to calculate the correlation with pearsonr, so you are going to send in two ordered lists of values, the populations from the wikipedia_data.html file and the win/loss ratio for a given sport in the same order. Average the win/loss ratios for those cities which have multiple teams of a single sport. Each sport is worth an equal amount in this assignment (20%*4=80%) of the grade for this assignment. You should only use data from year 2018 for your analysis -- this is important!\n",
    "\n",
    "## Notes\n",
    "Do not include data about the MLS or CFL in any of the work you are doing, we're only interested in the Big 4 in this assignment.\n",
    "I highly suggest that you first tackle the four correlation questions in order, as they are all similar and worth the majority of grades for this assignment. This is by design!\n",
    "It's fair game to talk with peers about high level strategy as well as the relationship between metropolitan areas and sports teams. However, do not post code solving aspects of the assignment (including such as dictionaries mapping areas to teams, or regexes which will clean up names).\n",
    "There may be more teams than the assert statements test, remember to collapse multiple teams in one city into a single value!"
   ]
  },
  {
   "cell_type": "markdown",
   "id": "7e3ee362",
   "metadata": {},
   "source": [
    "# Q1"
   ]
  },
  {
   "cell_type": "code",
   "execution_count": 2,
   "id": "8df79231",
   "metadata": {},
   "outputs": [],
   "source": [
    "import numpy as np\n",
    "import pandas as pd\n",
    "import scipy.stats as stats\n",
    "import re"
   ]
  },
  {
   "cell_type": "code",
   "execution_count": 3,
   "id": "bb92e70d",
   "metadata": {},
   "outputs": [],
   "source": [
    "cities=pd.read_html(\"assets/wikipedia_data.html\")[1]\n",
    "cities=cities.iloc[:-1,[0,3,5,6,7,8]]\n",
    "\n",
    "teams = cities['NHL'].str.extract('([A-Z]{0,2}[a-z0-9]*\\ [A-Z]{0,2}[a-z0-9]*|[A-Z]{0,2}[a-z0-9]*)([A-Z]{0,2}[a-z0-9]*\\ [A-Z]{0,2}[a-z0-9]*|[A-Z]{0,2}[a-z0-9]*)([A-Z]{0,2}[a-z0-9]*\\ [A-Z]{0,2}[a-z0-9]*|[A-Z]{0,2}[a-z0-9]*)')               \n",
    "teams['Metropolitan area'] = cities['Metropolitan area']\n",
    "teams = pd.melt(teams, id_vars=['Metropolitan area']).replace('',np.nan).dropna().rename(columns={'value':'team'}).reset_index().drop(columns=['variable','index'])\n",
    "\n",
    "teams = teams.merge(cities,how = 'left',on = 'Metropolitan area').iloc[:,0:3].rename(columns={'Population (2016 est.)[8]':'Population'})\n",
    "teams = teams.astype({'Metropolitan area':str,'team':str,'Population':int})\n",
    "teams['team']=teams['team'].str.replace('[\\w.]*\\ ','')\n",
    "\n",
    "nhl_df=pd.read_csv(\"assets/nhl.csv\")\n",
    "nhl_df = nhl_df[nhl_df['year']==2018]\n",
    "nhl_df = nhl_df[nhl_df['GP'].apply(lambda x:x.isnumeric())]\n",
    "nhl_df = nhl_df[['team','W','L']]\n",
    "nhl_df['team'] = nhl_df['team'].apply(lambda x: x.split(' ')[-1].strip('*'))\n",
    "nhl_df = nhl_df.astype({'W':int,'L':int})\n",
    "nhl_df['W/L%'] = nhl_df['W']/(nhl_df['W']+nhl_df['L'])\n",
    "\n",
    "merge = pd.merge(teams,nhl_df,how = 'outer', on = 'team')\n",
    "\n",
    "merge = merge.groupby('Metropolitan area').agg({'W/L%':np.nanmean,'Population':np.nanmean})"
   ]
  },
  {
   "cell_type": "code",
   "execution_count": 9,
   "id": "3fff151f",
   "metadata": {},
   "outputs": [
    {
     "data": {
      "text/plain": [
       "(0.0124861629212099, 0.9497182859911673)"
      ]
     },
     "execution_count": 9,
     "metadata": {},
     "output_type": "execute_result"
    }
   ],
   "source": [
    "stats.pearsonr(merge['Population'], merge['W/L%'])"
   ]
  },
  {
   "cell_type": "code",
   "execution_count": null,
   "id": "9534d8f2",
   "metadata": {},
   "outputs": [],
   "source": [
    "%reset"
   ]
  },
  {
   "cell_type": "markdown",
   "id": "c2282f63",
   "metadata": {},
   "source": [
    "## Q2 \n",
    "For this question, calculate the win/loss ratio's correlation with the population of the city it is in for the NBA using 2018 data."
   ]
  },
  {
   "cell_type": "code",
   "execution_count": null,
   "id": "b7e4597b",
   "metadata": {},
   "outputs": [],
   "source": [
    "import numpy as np\n",
    "import pandas as pd\n",
    "import scipy.stats as stats\n",
    "import re"
   ]
  },
  {
   "cell_type": "code",
   "execution_count": 114,
   "id": "868aeb55",
   "metadata": {},
   "outputs": [],
   "source": [
    "cities=pd.read_html(\"assets/wikipedia_data.html\")[1]\n",
    "cities=cities.iloc[:-1,[0,3,5,6,7,8]]\n",
    "teams = cities['NBA'].str.extract('([A-Z0-9]{0,2}\\w*\\ [A-Z]{0,2}\\w*|[A-Z0-9]{0,2}[a-z]*)([A-Z0-9]{0,2}\\w*|[A-Z0-9]{0,2}\\s\\w*)')\n",
    "teams['Metropolitan area'] = cities['Metropolitan area']\n",
    "teams = pd.melt(teams,id_vars='Metropolitan area').reset_index().drop(columns=['variable','index']).replace('',np.nan).dropna().rename(columns={'value':'team'})\n",
    "teams = teams.merge(cities,how = 'left', on = 'Metropolitan area').iloc[:,[0,1,2]].rename(columns={'Population (2016 est.)[8]':'Population'}).astype({'Population':int})\n",
    "teams['team'] = teams['team'].apply(lambda x: x.split(' ')[-1])\n",
    "\n",
    "nba_df = pd.read_csv(\"assets/nba.csv\")\n",
    "nba_df = nba_df[nba_df['year']==2018]\n",
    "nba_df = nba_df.iloc[:,[0,1,2]]\n",
    "nba_df['team'] = nba_df['team'].apply(lambda x: x.split('(')[0])\n",
    "nba_df['team'] = nba_df['team'].apply(lambda x: x.split('*')[0])\n",
    "nba_df['team'] = nba_df['team'].apply(lambda x: x.split(' ')[-1].strip())\n",
    "nba_df = nba_df.astype({'W':int,'L':int})\n",
    "nba_df['W/L%'] = nba_df['W']/(nba_df['W']+nba_df['L'])\n",
    "\n",
    "merge = pd.merge(nba_df,teams,how = 'left',on = 'team')\n",
    "merge = merge.groupby('Metropolitan area').agg({'W/L%':np.mean,'Population':np.mean})\n",
    "merge['Population'].shape\n"
   ]
  },
  {
   "cell_type": "code",
   "execution_count": 119,
   "id": "8b98e320",
   "metadata": {},
   "outputs": [
    {
     "data": {
      "text/plain": [
       "(-0.17657160252844617, 0.3687474160446289)"
      ]
     },
     "execution_count": 119,
     "metadata": {},
     "output_type": "execute_result"
    }
   ],
   "source": [
    "stats.pearsonr(merge['Population'], merge['W/L%'])"
   ]
  },
  {
   "cell_type": "code",
   "execution_count": 120,
   "id": "bc8bf408",
   "metadata": {},
   "outputs": [
    {
     "name": "stdout",
     "output_type": "stream",
     "text": [
      "Once deleted, variables cannot be recovered. Proceed (y/[n])? y\n"
     ]
    }
   ],
   "source": [
    "%reset"
   ]
  },
  {
   "cell_type": "markdown",
   "id": "1af88fac",
   "metadata": {},
   "source": [
    "## Question 3\n",
    "For this question, calculate the win/loss ratio's correlation with the population of the city it is in for the MLB using 2018 data."
   ]
  },
  {
   "cell_type": "code",
   "execution_count": 122,
   "id": "e7db069a",
   "metadata": {},
   "outputs": [],
   "source": [
    "import numpy as np\n",
    "import pandas as pd\n",
    "import scipy.stats as stats\n",
    "import re"
   ]
  },
  {
   "cell_type": "code",
   "execution_count": 203,
   "id": "77231203",
   "metadata": {},
   "outputs": [
    {
     "name": "stderr",
     "output_type": "stream",
     "text": [
      "C:\\Anaconda3\\lib\\site-packages\\pandas\\core\\indexing.py:189: SettingWithCopyWarning: \n",
      "A value is trying to be set on a copy of a slice from a DataFrame\n",
      "\n",
      "See the caveats in the documentation: http://pandas.pydata.org/pandas-docs/stable/indexing.html#indexing-view-versus-copy\n",
      "  self._setitem_with_indexer(indexer, value)\n"
     ]
    }
   ],
   "source": [
    "cities=pd.read_html(\"assets/wikipedia_data.html\")[1]\n",
    "cities=cities.iloc[:-1,[0,3,5,6,7,8]]\n",
    "teams = cities['MLB'].str.extract('([A-Z]{0,2}[a-z]*\\ [A-Z]{0,2}[a-z]*|[A-Z]{0,2}[a-z]*)([A-Z]{0,2}[a-z]*\\ [A-Z]{0,2}[a-z]*|[A-Z]{0,2}[a-z]*)([A-Z]{0,2}[a-z]*)([A-Z]{0,2}[a-z]*)([A-Z]{0,2}[a-z]*)([A-Z]{0,2}[a-z]*)')\n",
    "teams['Metropolitan area'] = cities['Metropolitan area']\n",
    "teams = pd.melt(teams,id_vars='Metropolitan area').replace('',np.nan).dropna().reset_index().drop(columns=['index','variable']).rename(columns={'value':'team'})\n",
    "teams = teams.merge(cities,how='left',on = 'Metropolitan area').iloc[:,[0,1,2]].rename(columns={'Population (2016 est.)[8]':'Population'}).astype({'Population':int})\n",
    "teams['team'] = teams['team'].apply(lambda x:x.split(' ')[-1].strip())\n",
    "teams['team'].iloc[7] = 'Red Sox'\n",
    "\n",
    "mlb_df = pd.read_csv(\"assets/mlb.csv\")\n",
    "mlb_df = mlb_df[mlb_df['year']==2018].iloc[:,[0,1,2]]\n",
    "mlb_df['team'] = mlb_df['team'].apply(lambda x:x.split(' ')[-1].strip())\n",
    "mlb_df = mlb_df.astype({'W':int,'L':int})\n",
    "mlb_df['W/L%']= mlb_df['W']/(mlb_df['W']+mlb_df['L'])\n",
    "mlb_df['team'].iloc[0] = 'Red Sox'\n",
    "\n",
    "merge = pd.merge(mlb_df,teams,how ='left',on = 'team')\n",
    "merge = merge.groupby('Metropolitan area').agg({'W/L%':np.nanmean,'Population':np.nanmean})"
   ]
  },
  {
   "cell_type": "code",
   "execution_count": 213,
   "id": "29a2ea11",
   "metadata": {},
   "outputs": [
    {
     "data": {
      "text/plain": [
       "0.15027698302669304"
      ]
     },
     "execution_count": 213,
     "metadata": {},
     "output_type": "execute_result"
    }
   ],
   "source": [
    "stats.pearsonr(merge['Population'],merge['W/L%'])[0]"
   ]
  },
  {
   "cell_type": "code",
   "execution_count": 217,
   "id": "2e663896",
   "metadata": {},
   "outputs": [
    {
     "name": "stdout",
     "output_type": "stream",
     "text": [
      "Once deleted, variables cannot be recovered. Proceed (y/[n])? y\n"
     ]
    }
   ],
   "source": [
    "%reset"
   ]
  },
  {
   "cell_type": "markdown",
   "id": "a87cff20",
   "metadata": {},
   "source": [
    "## Question 4\n",
    "For this question, calculate the win/loss ratio's correlation with the population of the city it is in for the NFL using 2018 data."
   ]
  },
  {
   "cell_type": "code",
   "execution_count": 218,
   "id": "e127766d",
   "metadata": {},
   "outputs": [],
   "source": [
    "import numpy as np\n",
    "import pandas as pd\n",
    "import scipy.stats as stats\n",
    "import re"
   ]
  },
  {
   "cell_type": "code",
   "execution_count": 254,
   "id": "e08933f0",
   "metadata": {},
   "outputs": [
    {
     "data": {
      "text/html": [
       "<div>\n",
       "<style scoped>\n",
       "    .dataframe tbody tr th:only-of-type {\n",
       "        vertical-align: middle;\n",
       "    }\n",
       "\n",
       "    .dataframe tbody tr th {\n",
       "        vertical-align: top;\n",
       "    }\n",
       "\n",
       "    .dataframe thead th {\n",
       "        text-align: right;\n",
       "    }\n",
       "</style>\n",
       "<table border=\"1\" class=\"dataframe\">\n",
       "  <thead>\n",
       "    <tr style=\"text-align: right;\">\n",
       "      <th></th>\n",
       "      <th>W/L%</th>\n",
       "      <th>Population</th>\n",
       "    </tr>\n",
       "    <tr>\n",
       "      <th>Metropolitan area</th>\n",
       "      <th></th>\n",
       "      <th></th>\n",
       "    </tr>\n",
       "  </thead>\n",
       "  <tbody>\n",
       "    <tr>\n",
       "      <th>Atlanta</th>\n",
       "      <td>0.437500</td>\n",
       "      <td>5789700</td>\n",
       "    </tr>\n",
       "    <tr>\n",
       "      <th>Baltimore</th>\n",
       "      <td>0.625000</td>\n",
       "      <td>2798886</td>\n",
       "    </tr>\n",
       "    <tr>\n",
       "      <th>Boston</th>\n",
       "      <td>0.687500</td>\n",
       "      <td>4794447</td>\n",
       "    </tr>\n",
       "    <tr>\n",
       "      <th>Buffalo</th>\n",
       "      <td>0.375000</td>\n",
       "      <td>1132804</td>\n",
       "    </tr>\n",
       "    <tr>\n",
       "      <th>Charlotte</th>\n",
       "      <td>0.437500</td>\n",
       "      <td>2474314</td>\n",
       "    </tr>\n",
       "    <tr>\n",
       "      <th>Chicago</th>\n",
       "      <td>0.750000</td>\n",
       "      <td>9512999</td>\n",
       "    </tr>\n",
       "    <tr>\n",
       "      <th>Cincinnati</th>\n",
       "      <td>0.375000</td>\n",
       "      <td>2165139</td>\n",
       "    </tr>\n",
       "    <tr>\n",
       "      <th>Cleveland</th>\n",
       "      <td>0.466667</td>\n",
       "      <td>2055612</td>\n",
       "    </tr>\n",
       "    <tr>\n",
       "      <th>Dallas–Fort Worth</th>\n",
       "      <td>0.625000</td>\n",
       "      <td>7233323</td>\n",
       "    </tr>\n",
       "    <tr>\n",
       "      <th>Denver</th>\n",
       "      <td>0.375000</td>\n",
       "      <td>2853077</td>\n",
       "    </tr>\n",
       "    <tr>\n",
       "      <th>Detroit</th>\n",
       "      <td>0.375000</td>\n",
       "      <td>4297617</td>\n",
       "    </tr>\n",
       "    <tr>\n",
       "      <th>Green Bay</th>\n",
       "      <td>0.400000</td>\n",
       "      <td>318236</td>\n",
       "    </tr>\n",
       "    <tr>\n",
       "      <th>Houston</th>\n",
       "      <td>0.687500</td>\n",
       "      <td>6772470</td>\n",
       "    </tr>\n",
       "    <tr>\n",
       "      <th>Indianapolis</th>\n",
       "      <td>0.625000</td>\n",
       "      <td>2004230</td>\n",
       "    </tr>\n",
       "    <tr>\n",
       "      <th>Jacksonville</th>\n",
       "      <td>0.312500</td>\n",
       "      <td>1478212</td>\n",
       "    </tr>\n",
       "    <tr>\n",
       "      <th>Kansas City</th>\n",
       "      <td>0.750000</td>\n",
       "      <td>2104509</td>\n",
       "    </tr>\n",
       "    <tr>\n",
       "      <th>Los Angeles</th>\n",
       "      <td>0.781250</td>\n",
       "      <td>13310447</td>\n",
       "    </tr>\n",
       "    <tr>\n",
       "      <th>Miami–Fort Lauderdale</th>\n",
       "      <td>0.437500</td>\n",
       "      <td>6066387</td>\n",
       "    </tr>\n",
       "    <tr>\n",
       "      <th>Minneapolis–Saint Paul</th>\n",
       "      <td>0.533333</td>\n",
       "      <td>3551036</td>\n",
       "    </tr>\n",
       "    <tr>\n",
       "      <th>Nashville</th>\n",
       "      <td>0.562500</td>\n",
       "      <td>1865298</td>\n",
       "    </tr>\n",
       "    <tr>\n",
       "      <th>New Orleans</th>\n",
       "      <td>0.812500</td>\n",
       "      <td>1268883</td>\n",
       "    </tr>\n",
       "    <tr>\n",
       "      <th>New York City</th>\n",
       "      <td>0.281250</td>\n",
       "      <td>20153634</td>\n",
       "    </tr>\n",
       "    <tr>\n",
       "      <th>Philadelphia</th>\n",
       "      <td>0.562500</td>\n",
       "      <td>6070500</td>\n",
       "    </tr>\n",
       "    <tr>\n",
       "      <th>Phoenix</th>\n",
       "      <td>0.187500</td>\n",
       "      <td>4661537</td>\n",
       "    </tr>\n",
       "    <tr>\n",
       "      <th>Pittsburgh</th>\n",
       "      <td>0.600000</td>\n",
       "      <td>2342299</td>\n",
       "    </tr>\n",
       "    <tr>\n",
       "      <th>San Francisco Bay Area</th>\n",
       "      <td>0.250000</td>\n",
       "      <td>6657982</td>\n",
       "    </tr>\n",
       "    <tr>\n",
       "      <th>Seattle</th>\n",
       "      <td>0.625000</td>\n",
       "      <td>3798902</td>\n",
       "    </tr>\n",
       "    <tr>\n",
       "      <th>Tampa Bay Area</th>\n",
       "      <td>0.312500</td>\n",
       "      <td>3032171</td>\n",
       "    </tr>\n",
       "    <tr>\n",
       "      <th>Washington, D.C.</th>\n",
       "      <td>0.437500</td>\n",
       "      <td>6131977</td>\n",
       "    </tr>\n",
       "  </tbody>\n",
       "</table>\n",
       "</div>"
      ],
      "text/plain": [
       "                            W/L%  Population\n",
       "Metropolitan area                           \n",
       "Atlanta                 0.437500     5789700\n",
       "Baltimore               0.625000     2798886\n",
       "Boston                  0.687500     4794447\n",
       "Buffalo                 0.375000     1132804\n",
       "Charlotte               0.437500     2474314\n",
       "Chicago                 0.750000     9512999\n",
       "Cincinnati              0.375000     2165139\n",
       "Cleveland               0.466667     2055612\n",
       "Dallas–Fort Worth       0.625000     7233323\n",
       "Denver                  0.375000     2853077\n",
       "Detroit                 0.375000     4297617\n",
       "Green Bay               0.400000      318236\n",
       "Houston                 0.687500     6772470\n",
       "Indianapolis            0.625000     2004230\n",
       "Jacksonville            0.312500     1478212\n",
       "Kansas City             0.750000     2104509\n",
       "Los Angeles             0.781250    13310447\n",
       "Miami–Fort Lauderdale   0.437500     6066387\n",
       "Minneapolis–Saint Paul  0.533333     3551036\n",
       "Nashville               0.562500     1865298\n",
       "New Orleans             0.812500     1268883\n",
       "New York City           0.281250    20153634\n",
       "Philadelphia            0.562500     6070500\n",
       "Phoenix                 0.187500     4661537\n",
       "Pittsburgh              0.600000     2342299\n",
       "San Francisco Bay Area  0.250000     6657982\n",
       "Seattle                 0.625000     3798902\n",
       "Tampa Bay Area          0.312500     3032171\n",
       "Washington, D.C.        0.437500     6131977"
      ]
     },
     "execution_count": 254,
     "metadata": {},
     "output_type": "execute_result"
    }
   ],
   "source": [
    "cities=pd.read_html(\"assets/wikipedia_data.html\")[1]\n",
    "cities=cities.iloc[:-1,[0,3,5,6,7,8]]\n",
    "teams = cities['NFL'].str.extract('([A-Z0-9]{0,2}\\w*\\ [A-Z]{0,2}\\w*|[A-Z0-9]{0,2}[a-z]*)([A-Z0-9]{0,2}\\w*|[A-Z0-9]{0,2}\\s\\w*)')\n",
    "teams['Metropolitan area'] = cities['Metropolitan area']\n",
    "teams = pd.melt(teams,id_vars='Metropolitan area').reset_index().drop(columns=['variable','index']).replace('',np.nan).dropna().rename(columns={'value':'team'})\n",
    "teams = teams.merge(cities,how = 'left', on = 'Metropolitan area').iloc[:,[0,1,2]].rename(columns={'Population (2016 est.)[8]':'Population'}).astype({'Population':int})\n",
    "teams['team'] = teams['team'].apply(lambda x: x.split(' ')[-1])\n",
    "\n",
    "teams.head()\n",
    "\n",
    "nfl_df = pd.read_csv('assets/nfl.csv')\n",
    "nfl_df = nfl_df[nfl_df['year']==2018][['team','W','L']]\n",
    "nfl_df = nfl_df[nfl_df['W'].apply(lambda x:x.isnumeric())].astype({'W':int,'L':int})\n",
    "nfl_df['team'] = nfl_df['team'].apply(lambda x: x.strip('*+'))\n",
    "nfl_df['team'] = nfl_df['team'].apply(lambda x: x.split(' ')[-1])\n",
    "nfl_df['W/L%'] = nfl_df['W']/(nfl_df['W']+nfl_df['L'])\n",
    "\n",
    "merge = pd.merge(nfl_df,teams,how = 'left',on = 'team')\n",
    "merge = merge.groupby('Metropolitan area').agg({'W/L%':np.nanmean,'Population':np.nanmean})\n",
    "merge"
   ]
  },
  {
   "cell_type": "code",
   "execution_count": 252,
   "id": "85c9cabd",
   "metadata": {},
   "outputs": [
    {
     "data": {
      "text/plain": [
       "0.004922112149349405"
      ]
     },
     "execution_count": 252,
     "metadata": {},
     "output_type": "execute_result"
    }
   ],
   "source": [
    "stats.pearsonr(merge['Population'],merge['W/L%'])[0]"
   ]
  },
  {
   "cell_type": "markdown",
   "id": "09e9031c",
   "metadata": {},
   "source": [
    "## Question 5\n",
    "In this question I would like you to explore the hypothesis that **given that an area has two sports teams in different sports, those teams will perform the same within their respective sports.** How I would like to see this explored is with a series of paired t-tests (so use ttest_rel) between all pairs of sports. Are there any sports where we can reject the null hypothesis? Again, average values where a sport has multiple teams in one region. Remember, you will only be including, for each sport, cities which have teams engaged in that sport, drop others as appropriate. This question is worth 20% of the grade for this assignment."
   ]
  },
  {
   "cell_type": "code",
   "execution_count": null,
   "id": "8117a1c4",
   "metadata": {},
   "outputs": [],
   "source": []
  }
 ],
 "metadata": {
  "kernelspec": {
   "display_name": "Python 3",
   "language": "python",
   "name": "python3"
  },
  "language_info": {
   "codemirror_mode": {
    "name": "ipython",
    "version": 3
   },
   "file_extension": ".py",
   "mimetype": "text/x-python",
   "name": "python",
   "nbconvert_exporter": "python",
   "pygments_lexer": "ipython3",
   "version": "3.6.5"
  }
 },
 "nbformat": 4,
 "nbformat_minor": 5
}
