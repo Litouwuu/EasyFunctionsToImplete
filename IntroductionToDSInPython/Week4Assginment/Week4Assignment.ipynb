{
 "cells": [
  {
   "cell_type": "markdown",
   "id": "d03345c3",
   "metadata": {},
   "source": [
    "# Assignment 4\n",
    "## Description\n",
    "In this assignment you must read in a file of metropolitan regions and associated sports teams from assets/wikipedia_data.html and answer some questions about each metropolitan region. Each of these regions may have one or more teams from the \"Big 4\": NFL (football, in assets/nfl.csv), MLB (baseball, in assets/mlb.csv), NBA (basketball, in assets/nba.csv or NHL (hockey, in assets/nhl.csv). Please keep in mind that all questions are from the perspective of the metropolitan region, and that this file is the \"source of authority\" for the location of a given sports team. Thus teams which are commonly known by a different area (e.g. \"Oakland Raiders\") need to be mapped into the metropolitan region given (e.g. San Francisco Bay Area). This will require some human data understanding outside of the data you've been given (e.g. you will have to hand-code some names, and might need to google to find out where teams are)!\n",
    "\n",
    "For each sport I would like you to answer the question: what is the win/loss ratio's correlation with the population of the city it is in? Win/Loss ratio refers to the number of wins over the number of wins plus the number of losses. Remember that to calculate the correlation with pearsonr, so you are going to send in two ordered lists of values, the populations from the wikipedia_data.html file and the win/loss ratio for a given sport in the same order. Average the win/loss ratios for those cities which have multiple teams of a single sport. Each sport is worth an equal amount in this assignment (20%*4=80%) of the grade for this assignment. You should only use data from year 2018 for your analysis -- this is important!\n",
    "\n",
    "## Notes\n",
    "Do not include data about the MLS or CFL in any of the work you are doing, we're only interested in the Big 4 in this assignment.\n",
    "I highly suggest that you first tackle the four correlation questions in order, as they are all similar and worth the majority of grades for this assignment. This is by design!\n",
    "It's fair game to talk with peers about high level strategy as well as the relationship between metropolitan areas and sports teams. However, do not post code solving aspects of the assignment (including such as dictionaries mapping areas to teams, or regexes which will clean up names).\n",
    "There may be more teams than the assert statements test, remember to collapse multiple teams in one city into a single value!"
   ]
  },
  {
   "cell_type": "markdown",
   "id": "014004f4",
   "metadata": {},
   "source": [
    "# Q1"
   ]
  },
  {
   "cell_type": "code",
   "execution_count": 2,
   "id": "8df79231",
   "metadata": {},
   "outputs": [],
   "source": [
    "import numpy as np\n",
    "import pandas as pd\n",
    "import scipy.stats as stats\n",
    "import re"
   ]
  },
  {
   "cell_type": "code",
   "execution_count": 3,
   "id": "bb92e70d",
   "metadata": {},
   "outputs": [],
   "source": [
    "cities=pd.read_html(\"assets/wikipedia_data.html\")[1]\n",
    "cities=cities.iloc[:-1,[0,3,5,6,7,8]]"
   ]
  },
  {
   "cell_type": "code",
   "execution_count": 4,
   "id": "4ef2c400",
   "metadata": {},
   "outputs": [],
   "source": [
    "teams = cities['NHL'].str.extract('([A-Z]{0,2}[a-z0-9]*\\ [A-Z]{0,2}[a-z0-9]*|[A-Z]{0,2}[a-z0-9]*)([A-Z]{0,2}[a-z0-9]*\\ [A-Z]{0,2}[a-z0-9]*|[A-Z]{0,2}[a-z0-9]*)([A-Z]{0,2}[a-z0-9]*\\ [A-Z]{0,2}[a-z0-9]*|[A-Z]{0,2}[a-z0-9]*)')               \n",
    "teams['Metropolitan area'] = cities['Metropolitan area']\n",
    "teams = pd.melt(teams, id_vars=['Metropolitan area']).replace('',np.nan).dropna().rename(columns={'value':'team'}).reset_index().drop(columns=['variable','index'])"
   ]
  },
  {
   "cell_type": "code",
   "execution_count": 5,
   "id": "531035c8",
   "metadata": {},
   "outputs": [],
   "source": [
    "teams = teams.merge(cities,how = 'left',on = 'Metropolitan area').iloc[:,0:3].rename(columns={'Population (2016 est.)[8]':'Population'})\n",
    "teams = teams.astype({'Metropolitan area':str,'team':str,'Population':int})\n",
    "teams['team']=teams['team'].str.replace('[\\w.]*\\ ','')"
   ]
  },
  {
   "cell_type": "code",
   "execution_count": 6,
   "id": "2c7a6e88",
   "metadata": {},
   "outputs": [],
   "source": [
    "nhl_df=pd.read_csv(\"assets/nhl.csv\")\n",
    "nhl_df = nhl_df[nhl_df['year']==2018]\n",
    "nhl_df = nhl_df[nhl_df['GP'].apply(lambda x:x.isnumeric())]\n",
    "nhl_df = nhl_df[['team','W','L']]\n",
    "nhl_df['team'] = nhl_df['team'].apply(lambda x: x.split(' ')[-1].strip('*'))\n",
    "nhl_df = nhl_df.astype({'W':int,'L':int})\n",
    "nhl_df['W/L%'] = nhl_df['W']/(nhl_df['W']+nhl_df['L'])"
   ]
  },
  {
   "cell_type": "code",
   "execution_count": 7,
   "id": "d1ffce2a",
   "metadata": {},
   "outputs": [],
   "source": [
    "merge = pd.merge(teams,nhl_df,how = 'outer', on = 'team')"
   ]
  },
  {
   "cell_type": "code",
   "execution_count": 8,
   "id": "15cefac7",
   "metadata": {},
   "outputs": [],
   "source": [
    "merge = merge.groupby('Metropolitan area').agg({'W/L%':np.nanmean,'Population':np.nanmean})"
   ]
  },
  {
   "cell_type": "code",
   "execution_count": 9,
   "id": "3fff151f",
   "metadata": {},
   "outputs": [
    {
     "data": {
      "text/plain": [
       "(0.0124861629212099, 0.9497182859911673)"
      ]
     },
     "execution_count": 9,
     "metadata": {},
     "output_type": "execute_result"
    }
   ],
   "source": [
    "stats.pearsonr(merge['Population'], merge['W/L%'])"
   ]
  },
  {
   "cell_type": "markdown",
   "id": "c590c8d0",
   "metadata": {},
   "source": [
    "## Q2 \n",
    "For this question, calculate the win/loss ratio's correlation with the population of the city it is in for the NBA using 2018 data."
   ]
  },
  {
   "cell_type": "code",
   "execution_count": 114,
   "id": "868aeb55",
   "metadata": {},
   "outputs": [],
   "source": [
    "cities=pd.read_html(\"assets/wikipedia_data.html\")[1]\n",
    "cities=cities.iloc[:-1,[0,3,5,6,7,8]]\n",
    "teams = cities['NBA'].str.extract('([A-Z0-9]{0,2}\\w*\\ [A-Z]{0,2}\\w*|[A-Z0-9]{0,2}[a-z]*)([A-Z0-9]{0,2}\\w*|[A-Z0-9]{0,2}\\s\\w*)')\n",
    "teams['Metropolitan area'] = cities['Metropolitan area']\n",
    "teams = pd.melt(teams,id_vars='Metropolitan area').reset_index().drop(columns=['variable','index']).replace('',np.nan).dropna().rename(columns={'value':'team'})\n",
    "teams = teams.merge(cities,how = 'left', on = 'Metropolitan area').iloc[:,[0,1,2]].rename(columns={'Population (2016 est.)[8]':'Population'}).astype({'Population':int})\n",
    "teams['team'] = teams['team'].apply(lambda x: x.split(' ')[-1])"
   ]
  },
  {
   "cell_type": "code",
   "execution_count": 116,
   "id": "42eaa9aa",
   "metadata": {},
   "outputs": [],
   "source": [
    "nba_df = pd.read_csv(\"assets/nba.csv\")\n",
    "nba_df = nba_df[nba_df['year']==2018]\n",
    "nba_df = nba_df.iloc[:,[0,1,2]]\n",
    "nba_df['team'] = nba_df['team'].apply(lambda x: x.split('(')[0])\n",
    "nba_df['team'] = nba_df['team'].apply(lambda x: x.split('*')[0])\n",
    "nba_df['team'] = nba_df['team'].apply(lambda x: x.split(' ')[-1].strip())\n",
    "nba_df = nba_df.astype({'W':int,'L':int})\n",
    "nba_df['W/L%'] = nba_df['W']/(nba_df['W']+nba_df['L'])"
   ]
  },
  {
   "cell_type": "code",
   "execution_count": 118,
   "id": "a2afef1b",
   "metadata": {},
   "outputs": [
    {
     "data": {
      "text/plain": [
       "(28,)"
      ]
     },
     "execution_count": 118,
     "metadata": {},
     "output_type": "execute_result"
    }
   ],
   "source": [
    "merge = pd.merge(nba_df,teams,how = 'left',on = 'team')\n",
    "merge = merge.groupby('Metropolitan area').agg({'W/L%':np.mean,'Population':np.mean})\n",
    "merge['Population'].shape\n"
   ]
  },
  {
   "cell_type": "code",
   "execution_count": 119,
   "id": "f0b9c429",
   "metadata": {},
   "outputs": [
    {
     "data": {
      "text/plain": [
       "(-0.17657160252844617, 0.3687474160446289)"
      ]
     },
     "execution_count": 119,
     "metadata": {},
     "output_type": "execute_result"
    }
   ],
   "source": [
    "stats.pearsonr(merge['Population'], merge['W/L%'])"
   ]
  },
  {
   "cell_type": "code",
   "execution_count": 120,
   "id": "2c9c723d",
   "metadata": {},
   "outputs": [
    {
     "name": "stdout",
     "output_type": "stream",
     "text": [
      "Once deleted, variables cannot be recovered. Proceed (y/[n])? y\n"
     ]
    }
   ],
   "source": [
    "%reset"
   ]
  },
  {
   "cell_type": "markdown",
   "id": "ea01f7b5",
   "metadata": {},
   "source": [
    "## Question 3\n",
    "For this question, calculate the win/loss ratio's correlation with the population of the city it is in for the MLB using 2018 data."
   ]
  },
  {
   "cell_type": "code",
   "execution_count": null,
   "id": "04d3e8ba",
   "metadata": {},
   "outputs": [],
   "source": [
    "cities=pd.read_html(\"assets/wikipedia_data.html\")[1]\n",
    "cities=cities.iloc[:-1,[0,3,5,6,7,8]]"
   ]
  }
 ],
 "metadata": {
  "kernelspec": {
   "display_name": "Python 3",
   "language": "python",
   "name": "python3"
  },
  "language_info": {
   "codemirror_mode": {
    "name": "ipython",
    "version": 3
   },
   "file_extension": ".py",
   "mimetype": "text/x-python",
   "name": "python",
   "nbconvert_exporter": "python",
   "pygments_lexer": "ipython3",
   "version": "3.6.5"
  }
 },
 "nbformat": 4,
 "nbformat_minor": 5
}
