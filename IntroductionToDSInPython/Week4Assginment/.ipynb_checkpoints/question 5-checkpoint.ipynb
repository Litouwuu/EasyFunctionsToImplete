{
 "cells": [
  {
   "cell_type": "code",
   "execution_count": 1,
   "id": "34b8dd1a",
   "metadata": {},
   "outputs": [],
   "source": [
    "import numpy as np\n",
    "import pandas as pd\n",
    "import scipy.stats as stats\n",
    "import re"
   ]
  },
  {
   "cell_type": "code",
   "execution_count": 2,
   "id": "65daea0b",
   "metadata": {},
   "outputs": [],
   "source": [
    "def merge_nhl():\n",
    "    cities=pd.read_html(\"assets/wikipedia_data.html\")[1]\n",
    "    cities=cities.iloc[:-1,[0,3,5,6,7,8]]\n",
    "\n",
    "    teams = cities['NHL'].str.extract('([A-Z]{0,2}[a-z0-9]*\\ [A-Z]{0,2}[a-z0-9]*|[A-Z]{0,2}[a-z0-9]*)([A-Z]{0,2}[a-z0-9]*\\ [A-Z]{0,2}[a-z0-9]*|[A-Z]{0,2}[a-z0-9]*)([A-Z]{0,2}[a-z0-9]*\\ [A-Z]{0,2}[a-z0-9]*|[A-Z]{0,2}[a-z0-9]*)')               \n",
    "    teams['Metropolitan area'] = cities['Metropolitan area']\n",
    "    teams = pd.melt(teams, id_vars=['Metropolitan area']).replace('',np.nan).dropna().rename(columns={'value':'team'}).reset_index().drop(columns=['variable','index'])\n",
    "\n",
    "    teams = teams.merge(cities,how = 'left',on = 'Metropolitan area').iloc[:,0:3].rename(columns={'Population (2016 est.)[8]':'Population'})\n",
    "    teams = teams.astype({'Metropolitan area':str,'team':str,'Population':int})\n",
    "    teams['team']=teams['team'].str.replace('[\\w.]*\\ ','')\n",
    "\n",
    "    nhl_df=pd.read_csv(\"assets/nhl.csv\")\n",
    "    nhl_df = nhl_df[nhl_df['year']==2018]\n",
    "    nhl_df = nhl_df[nhl_df['GP'].apply(lambda x:x.isnumeric())]\n",
    "    nhl_df = nhl_df[['team','W','L']]\n",
    "    nhl_df['team'] = nhl_df['team'].apply(lambda x: x.split(' ')[-1].strip('*'))\n",
    "    nhl_df = nhl_df.astype({'W':int,'L':int})\n",
    "    nhl_df['W/L%'] = nhl_df['W']/(nhl_df['W']+nhl_df['L'])\n",
    "\n",
    "    merge = pd.merge(teams,nhl_df,how = 'outer', on = 'team')\n",
    "\n",
    "    merge = merge.groupby('Metropolitan area').agg({'W/L%':np.nanmean,'Population':np.nanmean})\n",
    "    return merge"
   ]
  },
  {
   "cell_type": "code",
   "execution_count": 4,
   "id": "ab38bbd8",
   "metadata": {},
   "outputs": [],
   "source": [
    "def merge_nba():\n",
    "    cities=pd.read_html(\"assets/wikipedia_data.html\")[1]\n",
    "    cities=cities.iloc[:-1,[0,3,5,6,7,8]]\n",
    "    teams = cities['NBA'].str.extract('([A-Z0-9]{0,2}\\w*\\ [A-Z]{0,2}\\w*|[A-Z0-9]{0,2}[a-z]*)([A-Z0-9]{0,2}\\w*|[A-Z0-9]{0,2}\\s\\w*)')\n",
    "    teams['Metropolitan area'] = cities['Metropolitan area']\n",
    "    teams = pd.melt(teams,id_vars='Metropolitan area').reset_index().drop(columns=['variable','index']).replace('',np.nan).dropna().rename(columns={'value':'team'})\n",
    "    teams = teams.merge(cities,how = 'left', on = 'Metropolitan area').iloc[:,[0,1,2]].rename(columns={'Population (2016 est.)[8]':'Population'}).astype({'Population':int})\n",
    "    teams['team'] = teams['team'].apply(lambda x: x.split(' ')[-1])\n",
    "\n",
    "    nba_df = pd.read_csv(\"assets/nba.csv\")\n",
    "    nba_df = nba_df[nba_df['year']==2018]\n",
    "    nba_df = nba_df.iloc[:,[0,1,2]]\n",
    "    nba_df['team'] = nba_df['team'].apply(lambda x: x.split('(')[0])\n",
    "    nba_df['team'] = nba_df['team'].apply(lambda x: x.split('*')[0])\n",
    "    nba_df['team'] = nba_df['team'].apply(lambda x: x.split(' ')[-1].strip())\n",
    "    nba_df = nba_df.astype({'W':int,'L':int})\n",
    "    nba_df['W/L%'] = nba_df['W']/(nba_df['W']+nba_df['L'])\n",
    "\n",
    "    merge = pd.merge(nba_df,teams,how = 'left',on = 'team')\n",
    "    merge = merge.groupby('Metropolitan area').agg({'W/L%':np.mean,'Population':np.mean})\n",
    "    return merge"
   ]
  },
  {
   "cell_type": "code",
   "execution_count": null,
   "id": "bd0653af",
   "metadata": {},
   "outputs": [],
   "source": [
    "def merge_nlb():\n",
    "    cities=pd.read_html(\"assets/wikipedia_data.html\")[1]\n",
    "    cities=cities.iloc[:-1,[0,3,5,6,7,8]]\n",
    "    teams = cities['MLB'].str.extract('([A-Z]{0,2}[a-z]*\\ [A-Z]{0,2}[a-z]*|[A-Z]{0,2}[a-z]*)([A-Z]{0,2}[a-z]*\\ [A-Z]{0,2}[a-z]*|[A-Z]{0,2}[a-z]*)([A-Z]{0,2}[a-z]*)([A-Z]{0,2}[a-z]*)([A-Z]{0,2}[a-z]*)([A-Z]{0,2}[a-z]*)')\n",
    "    teams['Metropolitan area'] = cities['Metropolitan area']\n",
    "    teams = pd.melt(teams,id_vars='Metropolitan area').replace('',np.nan).dropna().reset_index().drop(columns=['index','variable']).rename(columns={'value':'team'})\n",
    "    teams = teams.merge(cities,how='left',on = 'Metropolitan area').iloc[:,[0,1,2]].rename(columns={'Population (2016 est.)[8]':'Population'}).astype({'Population':int})\n",
    "    teams['team'] = teams['team'].apply(lambda x:x.split(' ')[-1].strip())\n",
    "    teams['team'].iloc[7] = 'Red Sox'\n",
    "\n",
    "    mlb_df = pd.read_csv(\"assets/mlb.csv\")\n",
    "    mlb_df = mlb_df[mlb_df['year']==2018].iloc[:,[0,1,2]]\n",
    "    mlb_df['team'] = mlb_df['team'].apply(lambda x:x.split(' ')[-1].strip())\n",
    "    mlb_df = mlb_df.astype({'W':int,'L':int})\n",
    "    mlb_df['W/L%']= mlb_df['W']/(mlb_df['W']+mlb_df['L'])\n",
    "    mlb_df['team'].iloc[0] = 'Red Sox'\n",
    "\n",
    "    merge = pd.merge(mlb_df,teams,how ='left',on = 'team')\n",
    "    merge = merge.groupby('Metropolitan area').agg({'W/L%':np.nanmean,'Population':np.nanmean})"
   ]
  }
 ],
 "metadata": {
  "kernelspec": {
   "display_name": "Python 3",
   "language": "python",
   "name": "python3"
  },
  "language_info": {
   "codemirror_mode": {
    "name": "ipython",
    "version": 3
   },
   "file_extension": ".py",
   "mimetype": "text/x-python",
   "name": "python",
   "nbconvert_exporter": "python",
   "pygments_lexer": "ipython3",
   "version": "3.6.5"
  }
 },
 "nbformat": 4,
 "nbformat_minor": 5
}
