{
 "cells": [
  {
   "cell_type": "markdown",
   "id": "96686253",
   "metadata": {},
   "source": [
    "## 计数：身份证号码里的数字统计"
   ]
  },
  {
   "cell_type": "code",
   "execution_count": 25,
   "id": "036ac7ef",
   "metadata": {},
   "outputs": [
    {
     "name": "stdout",
     "output_type": "stream",
     "text": [
      "{'3': 2, '2': 4, '0': 2, '6': 1, '8': 2, '1': 3, '9': 3, '4': 1}\n"
     ]
    }
   ],
   "source": [
    "# 列表count()元素\n",
    "ID = '320682199801242193'\n",
    "IDlist = [str(i) for i in ID]\n",
    "count = {}\n",
    "for i in IDlist:\n",
    "    count[i] = IDlist.count(i)\n",
    "print(count)"
   ]
  },
  {
   "cell_type": "code",
   "execution_count": 22,
   "id": "d99592b8",
   "metadata": {},
   "outputs": [
    {
     "data": {
      "text/plain": [
       "Counter({'3': 2, '2': 4, '0': 2, '6': 1, '8': 2, '1': 3, '9': 3, '4': 1})"
      ]
     },
     "execution_count": 22,
     "metadata": {},
     "output_type": "execute_result"
    }
   ],
   "source": [
    "# collections库 \n",
    "from collections import Counter\n",
    "Counter(ID)"
   ]
  },
  {
   "cell_type": "code",
   "execution_count": 12,
   "id": "250b562c",
   "metadata": {},
   "outputs": [
    {
     "data": {
      "text/plain": [
       "{'0': 2, '9': 3, '8': 2, '6': 1, '3': 2, '1': 3, '4': 1, '2': 4}"
      ]
     },
     "execution_count": 12,
     "metadata": {},
     "output_type": "execute_result"
    }
   ],
   "source": [
    "# list comprehension\n",
    "dic = {a:ID.count(a) for a in set(ID)}\n",
    "dic"
   ]
  },
  {
   "cell_type": "code",
   "execution_count": 43,
   "id": "c6b65c7c",
   "metadata": {},
   "outputs": [
    {
     "data": {
      "text/plain": [
       "{'0': 2,\n",
       " '1': 3,\n",
       " '2': 4,\n",
       " '3': 2,\n",
       " '4': 1,\n",
       " '5': 0,\n",
       " '6': 1,\n",
       " '7': 0,\n",
       " '8': 2,\n",
       " '9': 3}"
      ]
     },
     "execution_count": 43,
     "metadata": {},
     "output_type": "execute_result"
    }
   ],
   "source": [
    "# get 方法 实际想要的方法！  误将dict设置为一个变量名称\n",
    "numlist = [str(x) for x in range(10)]\n",
    "result = dict(zip(numlist,[0]*10))\n",
    "for i in ID:\n",
    "    result[i] = result.get(i,0)+1\n",
    "result"
   ]
  },
  {
   "cell_type": "code",
   "execution_count": null,
   "id": "e3912a83",
   "metadata": {},
   "outputs": [],
   "source": []
  },
  {
   "cell_type": "code",
   "execution_count": null,
   "id": "7d203048",
   "metadata": {},
   "outputs": [],
   "source": []
  }
 ],
 "metadata": {
  "kernelspec": {
   "display_name": "Python 3",
   "language": "python",
   "name": "python3"
  },
  "language_info": {
   "codemirror_mode": {
    "name": "ipython",
    "version": 3
   },
   "file_extension": ".py",
   "mimetype": "text/x-python",
   "name": "python",
   "nbconvert_exporter": "python",
   "pygments_lexer": "ipython3",
   "version": "3.6.5"
  }
 },
 "nbformat": 4,
 "nbformat_minor": 5
}
