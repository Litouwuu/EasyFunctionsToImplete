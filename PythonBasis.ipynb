{
 "cells": [
  {
   "cell_type": "markdown",
   "id": "96686253",
   "metadata": {},
   "source": [
    "## 计数：身份证号码里的数字统计"
   ]
  },
  {
   "cell_type": "code",
   "execution_count": 31,
   "id": "036ac7ef",
   "metadata": {},
   "outputs": [
    {
     "name": "stdout",
     "output_type": "stream",
     "text": [
      "{'3': 2, '2': 4, '0': 2, '6': 1, '8': 2, '1': 3, '9': 3, '4': 1}\n",
      "['0', '1', '2', '3', '4', '6', '8', '9']\n"
     ]
    }
   ],
   "source": [
    "# count numbers in ID number\n",
    "ID = '320682199801242193'\n",
    "IDlist = [str(i) for i in ID]\n",
    "#count = dict(zip(range(10),[0]*10)) #生成具有同一元素的列表，找了好久\n",
    "count = {}\n",
    "for i in IDlist:\n",
    "    count[i] = IDlist.count(i)\n",
    "print(count)\n",
    "print(sorted(count))"
   ]
  },
  {
   "cell_type": "code",
   "execution_count": null,
   "id": "d99592b8",
   "metadata": {},
   "outputs": [],
   "source": []
  },
  {
   "cell_type": "code",
   "execution_count": null,
   "id": "250b562c",
   "metadata": {},
   "outputs": [],
   "source": []
  }
 ],
 "metadata": {
  "kernelspec": {
   "display_name": "Python 3",
   "language": "python",
   "name": "python3"
  },
  "language_info": {
   "codemirror_mode": {
    "name": "ipython",
    "version": 3
   },
   "file_extension": ".py",
   "mimetype": "text/x-python",
   "name": "python",
   "nbconvert_exporter": "python",
   "pygments_lexer": "ipython3",
   "version": "3.6.5"
  }
 },
 "nbformat": 4,
 "nbformat_minor": 5
}
